{
  "cells": [
    {
      "cell_type": "markdown",
      "metadata": {
        "id": "hgVreYca3LcQ"
      },
      "source": [
        "[![Open In Colab](https://colab.research.google.com/assets/colab-badge.svg)](https://colab.research.google.com/github/Navezjt/facefusion-colab/blob/main/facefusion_colab.ipynb)\n",
        "#🧠Navez_FaceFusion 2.3.0 ⚡\n",
        "\n",
        "*if you find this helpful consider becoming a member on patreon, subscribe to my youtube for Ai applications guides*\n",
        "\n",
        "[![Patreon](https://img.shields.io/badge/Patreon-Support-orange?style=rounded-square&logo=patreon)](https://www.patreon.com/user?u=98917275)\n",
        "[![Youtube](https://img.shields.io/badge/Youtube-Subscribe-red?style=rounded-square&logo=youtube)](https://www.youtube.com/@clementetumbajulcan4712)\n",
        "[![GitHub](https://img.shields.io/badge/GitHub-Visit-blue?style=rounded-square&logo=github)](https://github.com/Navezjt)\n",
        "[![Huggingface](https://img.shields.io/badge/Huggingface-visit-yellow?style=rounded-square&logo=huggingface)](https://huggingface.co/JCTN)\n",
        "[![Instagram](https://img.shields.io/badge/Instagarm-Follow-pink?style=rounded-square&logo=Instagram)](https://Instagram.com/joeltumbajulca)\n"
      ]
    },
    {
      "cell_type": "code",
      "source": [
        "#@title # <font color=\"#0497e0\">**JOEL CTN**</font>UI + <font color=\"#4684a3\"> RADIO\n",
        "%%html\n",
        "<b>Press play on the music player(Uses only 13MB of data)</b><br/>\n",
        "<audio src=\"http://stream.zeno.fm/vq4s9m2sg48uv\" controls>"
      ],
      "metadata": {
        "cellView": "form",
        "id": "-XNWz-KCk3oL"
      },
      "execution_count": null,
      "outputs": []
    },
    {
      "cell_type": "code",
      "execution_count": null,
      "metadata": {
        "id": "ZlrnUA3i3gMB",
        "cellView": "form"
      },
      "outputs": [],
      "source": [
        "#@title # <font color=\"#0497e0\">**JOEL CTN**</font>UI + <font color=\"#4684a3\"> INSTALL\n",
        "!git clone http://tinyurl.com/y8e23w6s --branch 2.3.0 --single-branch\n",
        "%cd /content/y8e23w6s\n",
        "!python install.py --torch cuda-12.1 --onnxruntime cuda-12.1 --skip-venv"
      ]
    },
    {
      "cell_type": "code",
      "execution_count": null,
      "metadata": {
        "id": "YVHiNI-bb6IB",
        "cellView": "form"
      },
      "outputs": [],
      "source": [
        "#@title # <font color=\"#0497e0\">**JOEL CTN**</font>UI + <font color=\"#4684a3\"> STUP\n",
        "!ssh-keygen -q -t rsa -N '' -f ~/.ssh/id_rsa <<<y\n",
        "!ssh-keyscan -t rsa remote.moe >> ~/.ssh/known_hosts"
      ]
    },
    {
      "cell_type": "code",
      "execution_count": null,
      "metadata": {
        "id": "YVHiNI-bb6IA",
        "cellView": "form"
      },
      "outputs": [],
      "source": [
        "#@title # <font color=\"#0497e0\">**JOEL CTN**</font>UI + <font color=\"#4684a3\"> RUN\n",
        "%cd /content/y8e23w6s\n",
        "!python run.py --execution-providers cuda & ssh -R 80:127.0.0.1:7860 remote.moe"
      ]
    }
  ],
  "metadata": {
    "accelerator": "GPU",
    "colab": {
      "provenance": []
    },
    "kernelspec": {
      "display_name": "Python",
      "name": "python3"
    },
    "language_info": {
      "name": "python"
    }
  },
  "nbformat": 4,
  "nbformat_minor": 0
}